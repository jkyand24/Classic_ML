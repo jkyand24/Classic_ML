{
 "cells": [
  {
   "cell_type": "code",
   "execution_count": 1,
   "metadata": {},
   "outputs": [],
   "source": [
    "import numpy as np"
   ]
  },
  {
   "cell_type": "code",
   "execution_count": 2,
   "metadata": {},
   "outputs": [
    {
     "name": "stdout",
     "output_type": "stream",
     "text": [
      "w0, w1, w2: 0.9999994654447435 2.000000116826904 2.7869638238129594e-07\n",
      "y_pred_temp: 2.9999995822716476\n"
     ]
    }
   ],
   "source": [
    "# gradient descent 함수 정의\n",
    "\n",
    "def gradient_descent(x1, x2, y, lr, iterations):\n",
    "    n = len(y)\n",
    "    \n",
    "    w0 = 0\n",
    "    w1 = 0\n",
    "    w2 = 0\n",
    "    \n",
    "    for i in range(iterations):\n",
    "        y_pred = w0 + w1 * x1 + w2 * x2\n",
    "        \n",
    "        error = y_pred - y\n",
    "        \n",
    "        w0 -= lr * (1/n) * np.sum(error)\n",
    "        w1 -= lr * (1/n) * np.sum(error * x1)\n",
    "        w2 -= lr * (1/n) * np.sum(error * x2)\n",
    "        \n",
    "    return w0, w1, w2\n",
    "\n",
    "# x1, x2, y에 대한 관계식 y = w0 + w1 * x1 + w2 * x2을 찾고자 함\n",
    "# 즉, w0, w1, w2를 찾고자 함 - by Gradient descent\n",
    "\n",
    "x1 = np.array([1, 2, 3, 4, 5])\n",
    "x2 = np.array([0, 1, 0, 1, 0])\n",
    "y = np.array([3, 5, 7, 9, 11])\n",
    "\n",
    "w0, w1, w2 = gradient_descent(x1, x2, y, 0.01, 10000)\n",
    "print(\"w0, w1, w2:\", w0, w1, w2)\n",
    "\n",
    "# 새로운 입력 x1, x2에 대해, 아직 모르는 출력 y를 예측함\n",
    "# 뭘 근거로? - 아까 추측해낸 관계식 y = w0 + w1 * x1 + w2 * x2에 대입해서.\n",
    "\n",
    "x1_new = 1\n",
    "x2_new = 0\n",
    "\n",
    "y_pred_temp = w0 + w1 * x1_new + w2 * x2_new\n",
    "print(\"y_pred_temp:\", y_pred_temp)"
   ]
  }
 ],
 "metadata": {
  "kernelspec": {
   "display_name": "AI",
   "language": "python",
   "name": "ai"
  },
  "language_info": {
   "codemirror_mode": {
    "name": "ipython",
    "version": 3
   },
   "file_extension": ".py",
   "mimetype": "text/x-python",
   "name": "python",
   "nbconvert_exporter": "python",
   "pygments_lexer": "ipython3",
   "version": "3.8.16"
  },
  "orig_nbformat": 4
 },
 "nbformat": 4,
 "nbformat_minor": 2
}
